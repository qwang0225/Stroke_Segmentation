{
  "cells": [
    {
      "cell_type": "code",
      "execution_count": null,
      "metadata": {
        "colab": {
          "base_uri": "https://localhost:8080/"
        },
        "id": "z8S2xZBws1Oa",
        "outputId": "d021476d-d7af-4c1a-e03c-94c856ac0475"
      },
      "outputs": [],
      "source": [
        "# !pip install monai\n",
        "# !pip install torchmetrics\n",
        "# !pip install segmentation_models_pytorch"
      ]
    },
    {
      "cell_type": "code",
      "execution_count": 1,
      "metadata": {
        "id": "c-5JXV1HvZ39"
      },
      "outputs": [],
      "source": [
        "import os\n",
        "import pickle\n",
        "import segmentation_models_pytorch as smp\n",
        "from monai.data import DataLoader, Dataset\n",
        "from monai.utils import set_determinism\n",
        "import torch\n",
        "from torchmetrics import JaccardIndex\n",
        "from tqdm import tqdm\n",
        "from transformers import SegformerConfig, SegformerForSemanticSegmentation\n",
        "import numpy as np\n",
        "import matplotlib.pyplot as plt\n",
        "import pandas as pd\n",
        "import warnings\n",
        "import matplotlib.pyplot as plt\n",
        "import seaborn as sns\n",
        "warnings.filterwarnings('ignore')\n"
      ]
    },
    {
      "cell_type": "code",
      "execution_count": 2,
      "metadata": {
        "colab": {
          "base_uri": "https://localhost:8080/"
        },
        "id": "yXjdEg6ctFED",
        "outputId": "65fc665d-f751-4f21-caeb-1bf39ebbf324"
      },
      "outputs": [
        {
          "name": "stdout",
          "output_type": "stream",
          "text": [
            "Mounted at /content/drive\n"
          ]
        }
      ],
      "source": [
        "# # mount google drive\n",
        "# from google.colab import drive\n",
        "# drive.mount('/content/drive')"
      ]
    },
    {
      "cell_type": "code",
      "execution_count": 2,
      "metadata": {
        "colab": {
          "base_uri": "https://localhost:8080/"
        },
        "id": "2gZBTvFBt0Bx",
        "outputId": "9e5f3166-84e8-4d57-dc7e-b0613b60db17"
      },
      "outputs": [
        {
          "data": {
            "text/plain": [
              "False"
            ]
          },
          "execution_count": 2,
          "metadata": {},
          "output_type": "execute_result"
        }
      ],
      "source": [
        "# root_dir = \"/content/drive/MyDrive/\"\n",
        "# root_dir = os.path.join(root_dir, \"ISLES-2022\")\n",
        "# os.path.exists(root_dir)"
      ]
    },
    {
      "cell_type": "code",
      "execution_count": 93,
      "metadata": {},
      "outputs": [],
      "source": [
        "from torchvision import models\n",
        "import torch\n",
        "import torch.nn as nn\n",
        "import torch.nn.functional as F\n",
        "\n",
        "class conv_block(nn.Module):\n",
        "    def __init__(self, ch_in, ch_out) -> None:\n",
        "        \"\"\"\n",
        "        conv_block: Convolutional block with two convolutional layers with batch normalization and ReLU activation.\n",
        "        no change in size of the image.\n",
        "        \"\"\"\n",
        "        super().__init__()\n",
        "        self.conv = nn.Sequential(\n",
        "            nn.Conv2d(ch_in, ch_out, kernel_size=3,stride=1,  padding=1),\n",
        "            nn.BatchNorm2d(ch_out),\n",
        "            nn.ReLU(inplace=True),\n",
        "            nn.Conv2d(ch_out, ch_out, kernel_size=3, stride=1, padding=1),\n",
        "            nn.BatchNorm2d(ch_out),\n",
        "            nn.ReLU(inplace=True))\n",
        "\n",
        "    def forward(self, x):\n",
        "        return self.conv(x)\n",
        "\n",
        "\n",
        "class Upsample(nn.Module):\n",
        "    def __init__(self,ch_in,ch_out):\n",
        "        \"\"\"\n",
        "        Upsample: Upsample the image by a factor of 2 and then apply a convolutional layer.\n",
        "        No change in the size of the image.\n",
        "        \"\"\"\n",
        "        super().__init__()\n",
        "        self.up = nn.Sequential(\n",
        "            nn.Upsample(scale_factor=2),\n",
        "            nn.Conv2d(ch_in,ch_out,kernel_size=3,stride=1,padding=1,bias=True),\n",
        "\t\t    nn.BatchNorm2d(ch_out),\n",
        "\t\t\tnn.ReLU(inplace=True)\n",
        "        )\n",
        "\n",
        "    def forward(self,x):\n",
        "        x = self.up(x)\n",
        "        return x\n",
        "\n",
        "class UNET(nn.Module):\n",
        "    def __init__(self,img_ch=3,output_ch=1):\n",
        "        super().__init__()\n",
        "\n",
        "        self.Maxpool = nn.MaxPool2d(kernel_size=2,stride=2) # reduce the size of the image by half\n",
        "\n",
        "        self.enc1 = conv_block(ch_in=img_ch,ch_out=64)\n",
        "        self.enc2 = conv_block(ch_in=64,ch_out=128)\n",
        "        self.enc3 = conv_block(ch_in=128,ch_out=256)\n",
        "        self.enc4 = conv_block(ch_in=256,ch_out=512)\n",
        "\n",
        "        self.bottle_neck = conv_block(ch_in=512, ch_out=1024)\n",
        "\n",
        "        self.Upconv4 = nn.ConvTranspose2d(1024,512,kernel_size=2,stride=2) # increase the size of the image by 2 and decrease the number of channels by half\n",
        "        self.dec4 = conv_block(ch_in=1024, ch_out=512)\n",
        "\n",
        "        self.UpConv3 = nn.ConvTranspose2d(512,256,kernel_size=2,stride=2)\n",
        "        self.dec3 = conv_block(ch_in=512,ch_out=256)\n",
        "\n",
        "        self.UpConv2 = nn.ConvTranspose2d(256,128,kernel_size=2,stride=2)\n",
        "        self.dec2 = conv_block(ch_in=256,ch_out=128)\n",
        "\n",
        "        self.UpConv1 = nn.ConvTranspose2d(128,64,kernel_size=2,stride=2)\n",
        "        self.dec1 = conv_block(ch_in=128,ch_out=64)\n",
        "\n",
        "        self.Conv_1x1 = nn.Conv2d(64,output_ch,kernel_size=1,stride=1,padding=0)\n",
        "\n",
        "\n",
        "    def forward(self, x):\n",
        "        # x: B, img_ch, H, W\n",
        "\n",
        "\n",
        "        # encoding path\n",
        "        e1 = self.enc1(x)  # B, 64, H, W\n",
        "\n",
        "        e2 = self.enc2(self.Maxpool(e1))  # B, 128, H/2, W/2\n",
        "        e3 = self.enc3(self.Maxpool(e2))  # B, 256, H/4, W/4\n",
        "        e4 = self.enc4(self.Maxpool(e3)) # B, 512, H/8, W/8\n",
        "\n",
        "        bottle_neck = self.bottle_neck(self.Maxpool(e4)) # B, 1024, H/16, W/16\n",
        "\n",
        "        d4 = self.Upconv4(bottle_neck) # B, 512, H/8, W/8\n",
        "        d4 = torch.cat((d4, e4), dim=1) # B, 1024, H/8, W/8\n",
        "        d4 = self.dec4(d4) # B, 512, H/8, W/8\n",
        "\n",
        "        d3 = self.UpConv3(d4) # B, 256, H/4, W/4\n",
        "        d3 = torch.cat((d3,e3),dim=1) # B, 512, H/4, W/4\n",
        "        d3 = self.dec3(d3) # B, 256, H/4, W/4\n",
        "\n",
        "        d2 = self.UpConv2(d3) # B, 128, H/2, W/2\n",
        "        d2 = torch.cat((d2,e2),dim=1) # B, 256, H/2, W/2\n",
        "        d2 = self.dec2(d2) # B, 128, H/2, W/2\n",
        "\n",
        "        d1 = self.UpConv1(d2) # B, 64, H, W\n",
        "        d1 = torch.cat((d1,e1),dim=1) # B, 128, H, W\n",
        "        d1 = self.dec1(d1) # B, 64, H, W\n",
        "\n",
        "        out = self.Conv_1x1(d1) # B, output_cha, H, W\n",
        "        out = F.sigmoid(out)\n",
        "        return out\n",
        "        # Decoder path\n",
        "class ResNetUNet(nn.Module):\n",
        "    def __init__(self, output_ch=1):\n",
        "        super().__init__()\n",
        "\n",
        "        # Use a pretrained ResNet34 model but remove the fully connected layer and the final pooling layer\n",
        "        self.resnet = models.resnet34(pretrained=True)\n",
        "        self.resnet_layers = list(self.resnet.children())[:-2]\n",
        "        self.resnet_encoder = nn.Sequential(*self.resnet_layers)\n",
        "        self.Maxpool = nn.MaxPool2d(kernel_size=2,stride=2) # reduce the size of the image by half\n",
        "\n",
        "        # Encoder channels based on ResNet34 architecture\n",
        "        enc_chs = [64, 64, 128, 256, 512]\n",
        "\n",
        "        self.bottle_neck = conv_block(ch_in=256, ch_out=512)\n",
        "\n",
        "        # Decoder components\n",
        "\n",
        "        self.UpConv4 = nn.ConvTranspose2d(512,256,kernel_size=2,stride=2)\n",
        "        self.dec4 = conv_block(ch_in=512,ch_out=256)\n",
        "\n",
        "        self.UpConv3 = nn.ConvTranspose2d(256,128,kernel_size=2,stride=2)\n",
        "        self.dec3 = conv_block(ch_in=256,ch_out=128)\n",
        "\n",
        "        self.UpConv2 = nn.ConvTranspose2d(128,64,kernel_size=2,stride=2)\n",
        "        self.dec2 = conv_block(ch_in=128,ch_out=64)\n",
        "\n",
        "        self.UpConv1 = nn.ConvTranspose2d(64,64,kernel_size=2,stride=2)\n",
        "        self.dec1 = conv_block(ch_in=128,ch_out=64)\n",
        "\n",
        "        self.UpConv0 = nn.ConvTranspose2d(128,64,kernel_size=2,stride=2)\n",
        "\n",
        "        self.Conv_1x1 = nn.Conv2d(64,output_ch,kernel_size=1,stride=1,padding=0)\n",
        "\n",
        "    def forward(self, x):\n",
        "        # x: B, img_ch, H, W\n",
        "        e1 = self.resnet_encoder[0:3](x) # B, 64, H/2, W/2\n",
        "        e2 = self.resnet_encoder[3:5](e1) # B, 64, H/4, W/4\n",
        "        e3 = self.resnet_encoder[5](e2) # B, 128, H/8, H/8\n",
        "        e4 = self.resnet_encoder[6](e3) # B, 256, H/16, H/16\n",
        "        # print(e4.shape)\n",
        "\n",
        "        # print(1)\n",
        "\n",
        "        bottle_neck = self.bottle_neck(self.Maxpool(e4)) # B, 512, H/32, H/32\n",
        "        # print(bottle_neck.shape)\n",
        "\n",
        "\n",
        "        d4 = self.UpConv4(bottle_neck) # B, 256, H/16, H/16\n",
        "        d4 = torch.cat((d4,e4),dim=1) # B, 512, H/16, H/16\n",
        "        d4 = self.dec4(d4) # B, 256, H/16, H/16\n",
        "        # print(d4.shape)\n",
        "\n",
        "        d3 = self.UpConv3(d4) # B, 128, H/8, H/8\n",
        "        d3 = torch.cat((d3,e3),dim=1) # B, 256, H/8, H/8\n",
        "        d3 = self.dec3(d3) # B, 128, H/8, H/8\n",
        "        # print(d3.shape)\n",
        "\n",
        "        d2 = self.UpConv2(d3) # B, 64, H/4, H/4\n",
        "        d2 = torch.cat((d2,e2),dim=1) # B, 128, H/4, H/4\n",
        "        d2 = self.dec2(d2) # B, 64, H/4, H/4\n",
        "        # print(\"d2\", d2.shape)\n",
        "\n",
        "        d1 = self.UpConv1(d2) # B, 64, H/2, H/2\n",
        "        # print(\"d1\", d1.shape)\n",
        "        # print(\"e1\", e1.shape)\n",
        "        d1 = torch.cat((d1,e1),dim=1) # B, 64, H, H\n",
        "\n",
        "        d0 = self.UpConv0(d1) # B, 64, H, H\n",
        "        # print(\"d0\", d0.shape)\n",
        "        # print(d0.shape)\n",
        "\n",
        "\n",
        "        out = self.Conv_1x1(d0) # B, output_cha, H, W\n",
        "        out = F.sigmoid(out)\n",
        "\n",
        "\n",
        "        return out\n",
        "        # Decoder path\n",
        "\n"
      ]
    },
    {
      "cell_type": "code",
      "execution_count": 94,
      "metadata": {
        "id": "8lTNCNSWvwnY"
      },
      "outputs": [],
      "source": [
        "# import custom model\n",
        "from custom_model import CustomModel"
      ]
    },
    {
      "cell_type": "markdown",
      "metadata": {
        "id": "k4dm-dcBvg3b"
      },
      "source": [
        "### Load preprocessed data"
      ]
    },
    {
      "cell_type": "code",
      "execution_count": 95,
      "metadata": {},
      "outputs": [],
      "source": [
        "root_dir = \".\""
      ]
    },
    {
      "cell_type": "code",
      "execution_count": 96,
      "metadata": {
        "id": "jP5jyHOet32s"
      },
      "outputs": [],
      "source": [
        "# make sure those files exist before running this cell\n",
        "# with open(os.path.join(root_dir, 'full_kfold_splits.pkl'), 'rb') as f:\n",
        "#     folds = pickle.load(f)\n",
        "# with open(os.path.join(root_dir, 'full_test_set.pkl'), 'rb') as f:\n",
        "#     test_set = pickle.load(f)\n"
      ]
    },
    {
      "cell_type": "code",
      "execution_count": 97,
      "metadata": {},
      "outputs": [],
      "source": [
        "with open(os.path.join(root_dir, 'three_sequence_train_set.pkl'), 'rb') as f:\n",
        "    train_set = pickle.load(f)\n",
        "with open(os.path.join(root_dir, 'three_sequence_test_set.pkl'), 'rb') as f:\n",
        "    test_set = pickle.load(f)"
      ]
    },
    {
      "cell_type": "code",
      "execution_count": 98,
      "metadata": {
        "id": "WZ8KE32hs1Oa"
      },
      "outputs": [],
      "source": [
        "# gpu = \"cuda\"\n",
        "# loss = \"Jaccard\"\n",
        "# model_type = \"resnet\""
      ]
    },
    {
      "cell_type": "code",
      "execution_count": 99,
      "metadata": {
        "colab": {
          "base_uri": "https://localhost:8080/"
        },
        "id": "Kiq260_Ks1Oa",
        "outputId": "224692ea-8051-4066-92ad-587bf8b64259"
      },
      "outputs": [],
      "source": [
        "\n",
        "# x = torch.randn(1, 3, 128, 128)\n",
        "# model = CustomModel(\n",
        "#         channels = [64, 128, 256, 512],\n",
        "#         scale = [4, 2, 2, 2],\n",
        "#         num_blocks = [2, 2, 2, 2],\n",
        "#         num_heads = [2, 4, 8, 16],\n",
        "#         mlp_hidden = [256, 512, 1024, 2048],\n",
        "#         dropout = 0.0,                     # change to dropout rate=0.2\n",
        "#         decoder_hidden = 256,\n",
        "#         attention=True, # whether to use attention gate\n",
        "#     )\n",
        "# l =model.encoder(x)\n",
        "# for i in range(len(l)):\n",
        "#     print(l[i].shape)\n",
        "# l.reverse()\n",
        "# model.decoder(l).shape\n"
      ]
    },
    {
      "cell_type": "code",
      "execution_count": 100,
      "metadata": {
        "id": "px_2FfUes1Ob"
      },
      "outputs": [],
      "source": [
        "# if gpu == \"cuda\":\n",
        "#     device = torch.device(\"cuda:0\")\n",
        "\n",
        "# if loss == \"Dice\":\n",
        "#     loss_function = smp.losses.DiceLoss(mode=\"binary\", from_logits=False)\n",
        "# elif loss == \"Jaccard\":\n",
        "#     loss_function = smp.losses.JaccardLoss(mode=\"binary\", from_logits=False)\n",
        "\n",
        "# metric = JaccardIndex(task=\"binary\").to(device)"
      ]
    },
    {
      "cell_type": "markdown",
      "metadata": {
        "id": "7vqjaWAbvm3Y"
      },
      "source": [
        "### Define training function"
      ]
    },
    {
      "cell_type": "code",
      "execution_count": 102,
      "metadata": {
        "id": "oK90Sg0Gs1Ob"
      },
      "outputs": [],
      "source": [
        "def get_model(model_type, device, attention_gate_flag=False):\n",
        "    if model_type == \"resnet\":\n",
        "     \n",
        "        # model = smp.Unet(\n",
        "        #     encoder_name=\"resnet34\",\n",
        "        #     in_channels=3,\n",
        "        #     classes=1,\n",
        "        #     activation=\"sigmoid\",\n",
        "        #     encoder_weights=None,\n",
        "        # ).to(device)\n",
        "        model = ResNetUNet(output_ch=1).to(device)\n",
        "    elif model_type == \"unet\":\n",
        "        # model = torch.hub.load('mateuszbuda/brain-segmentation-pytorch', 'unet',\n",
        "        # in_channels=3, out_channels=1, init_features=32, pretrained=False).to(device)\n",
        "        model = UNET(img_ch=3, output_ch=1).to(device)\n",
        "    elif model_type == \"segformer\":\n",
        "        config = SegformerConfig(num_labels=1)\n",
        "        model = SegformerForSemanticSegmentation.from_pretrained(\"nvidia/segformer-b0-finetuned-ade-512-512\", num_labels=1, ignore_mismatched_sizes=True).to(device)\n",
        "    elif model_type == \"custom\":\n",
        "        model = CustomModel(\n",
        "            channels = [64, 128, 256, 512],\n",
        "            scale = [4, 2, 2, 2],\n",
        "            num_blocks = [2, 2, 2, 2],\n",
        "            num_heads = [2, 4, 8, 16],\n",
        "            mlp_hidden = [256, 512, 1024, 2048],\n",
        "            dropout = 0.2,                     # change to dropout rate=0.2\n",
        "            decoder_hidden = 256,\n",
        "            attention=attention_gate_flag, # whether to use attention gate\n",
        "        ).to(device)\n",
        "\n",
        "    return model\n"
      ]
    },
    {
      "cell_type": "code",
      "execution_count": 103,
      "metadata": {
        "id": "yYt7dUZJs1Ob"
      },
      "outputs": [],
      "source": [
        "def count_parameters(model):\n",
        "    total_params = sum(p.numel() for p in model.parameters())\n",
        "    # trainable_params = sum(p.numel() for p in model.parameters() if p.requires_grad)\n",
        "    print(f\"Total number of parameters: {total_params}\")\n",
        "    # print(f\"Number of trainable parameters: {trainable_params}\")\n",
        "    return total_params\n",
        "# count_parameters(model)"
      ]
    },
    {
      "cell_type": "code",
      "execution_count": 104,
      "metadata": {
        "id": "DVFG_PZhs1Oc"
      },
      "outputs": [],
      "source": [
        "def add_model_par(df_model_par, model_type, parameters_num):\n",
        "    \"\"\"\n",
        "    df_model_par: dataframe to save model parameters\n",
        "    model_type: resnet, unet, segformer, custom\n",
        "    parameters_num: number of parameters\n",
        "    \"\"\"\n",
        "    next_index = len(df_model_par)\n",
        "    df_model_par.loc[next_index] = [model_type, parameters_num]"
      ]
    },
    {
      "cell_type": "code",
      "execution_count": null,
      "metadata": {},
      "outputs": [],
      "source": []
    },
    {
      "cell_type": "code",
      "execution_count": 105,
      "metadata": {},
      "outputs": [],
      "source": [
        "def train_model(model_type, df_model_par, out_dir, loss_function, metric, device, lr=1e-4, attention_gate_flag=False):\n",
        "    \"\"\"\n",
        "    model_type: resnet, unet, segformer, custom\n",
        "    df_model_par: dataframe to save model parameters size\n",
        "    out_dir: root directory of the dataset\n",
        "    loss_function: loss function to evaluate the model, Dice or Jaccard\n",
        "    metric: metric to evaluate the model, JaccardIndex(IoU) or  Dice\n",
        "    device: device to train the model\n",
        "    lr: learning rate\n",
        "    attention_gate_flag: whether to use attention gate in custom model\n",
        "    \"\"\"\n",
        "\n",
        "\n",
        "    model = get_model(model_type, device, attention_gate_flag=attention_gate_flag)\n",
        "    add_model_par(df_model_par, model_type, count_parameters(model))\n",
        "    train_ds = train_set[\"train\"]\n",
        "    train_loader = DataLoader(train_ds, batch_size=32, shuffle=True, num_workers=4)\n",
        "    val_ds = train_set[\"val\"]\n",
        "    val_loader = DataLoader(val_ds, batch_size=8, num_workers=4)\n",
        "\n",
        "\n",
        "    optimizer = torch.optim.Adam(model.parameters(), lr=lr)\n",
        "    # lr_scheduler = torch.optim.lr_scheduler.CosineAnnealingLR(optimizer, T_max=100)\n",
        "\n",
        "    # use amp to accelerate training\n",
        "    scaler = torch.cuda.amp.GradScaler()\n",
        "    # enable cuDNN benchmark\n",
        "    torch.backends.cudnn.benchmark = True\n",
        "\n",
        "    val_interval = 2\n",
        "    best_metric = -1\n",
        "    best_metric_epoch = -1\n",
        "    epoch_loss_values = []\n",
        "    metric_values = []\n",
        "\n",
        "    num_CV = 5\n",
        "    max_epochs = 200\n",
        "\n",
        "  \n",
        "    for epoch in range(max_epochs):\n",
        "        print(\"-\" * 10)\n",
        "        print(f\"epoch {epoch + 1}/{max_epochs}\")\n",
        "        \n",
        "\n",
        "        # Training\n",
        "        model.train()\n",
        "        epoch_loss = 0\n",
        "        step = 0\n",
        "\n",
        "        for batch_data in tqdm(train_loader, desc=\"Training\"):\n",
        "            step += 1\n",
        "            inputs, labels = (\n",
        "                batch_data[\"image\"].to(device),\n",
        "                batch_data[\"label\"].to(device),\n",
        "            )\n",
        "\n",
        "            optimizer.zero_grad()\n",
        "\n",
        "            with torch.cuda.amp.autocast():\n",
        "                inputs.to(torch.float32)\n",
        "                outputs = model(inputs)\n",
        "                if model_type == \"segformer\":\n",
        "                    outputs = torch.nn.functional.sigmoid(torch.nn.functional.interpolate(outputs.logits,128,mode=\"bilinear\",align_corners=False))\n",
        "                loss = loss_function(outputs, labels)\n",
        "\n",
        "            if torch.isnan(loss) or torch.isnan(torch.flatten(outputs)).any().item():\n",
        "                print(outputs)\n",
        "                print(torch.isnan(torch.flatten(outputs)).any())\n",
        "                print(labels)\n",
        "                print(loss)\n",
        "\n",
        "            scaler.scale(loss).backward()\n",
        "            scaler.step(optimizer)\n",
        "            scaler.update()\n",
        "\n",
        "            epoch_loss += loss.item()\n",
        "\n",
        "        epoch_loss /= step\n",
        "        epoch_loss_values.append(epoch_loss)\n",
        "        print(f\"epoch {epoch + 1} average loss: {epoch_loss:.4f}\")\n",
        "\n",
        "        # Validation\n",
        "        if (epoch + 1) % val_interval == 0:\n",
        "            model.eval()\n",
        "            val_iou = 0.0\n",
        "            num_batches = len(val_loader)\n",
        "\n",
        "            with torch.no_grad():\n",
        "                for val_data in tqdm(val_loader, desc=\"Validation\"):\n",
        "                    val_inputs, val_labels = (\n",
        "                        val_data[\"image\"].to(device),\n",
        "                        val_data[\"label\"].to(device),\n",
        "                    )\n",
        "\n",
        "                    val_outputs = model(val_inputs)\n",
        "                    if model_type == \"segformer\":\n",
        "                        val_outputs = torch.nn.functional.sigmoid(torch.nn.functional.interpolate(val_outputs.logits,128,mode=\"bilinear\",align_corners=False))\n",
        "\n",
        "                    # Calculate IoU\n",
        "                    iou = metric(val_outputs, val_labels)\n",
        "                    val_iou += iou.item()\n",
        "\n",
        "            # Calculate average IoU across all batches\n",
        "            average_val_iou = val_iou / num_batches\n",
        "            metric_values.append(average_val_iou)\n",
        "\n",
        "            if average_val_iou > best_metric:\n",
        "                best_metric = average_val_iou\n",
        "                best_metric_epoch = epoch + 1\n",
        "                torch.save(model.state_dict(), os.path.join(out_dir, \"best_metric_model.pth\"))\n",
        "                print(\"saved new best metric model\")\n",
        "\n",
        "            print(\n",
        "                f\"current epoch: {epoch + 1} current mean IoU: {average_val_iou:.4f}\"\n",
        "                f\"\\nbest mean IoU: {best_metric:.4f} \"\n",
        "                f\"at epoch: {best_metric_epoch}\"\n",
        "            )\n",
        "    return epoch_loss_values, metric_values\n"
      ]
    },
    {
      "cell_type": "code",
      "execution_count": 106,
      "metadata": {
        "id": "RBeRthDRJXum"
      },
      "outputs": [],
      "source": [
        "def plot_train_curve(epoch_loss_values, metric_values, model_type, out_dir):\n",
        "\n",
        "    epoch_loss_array = np.array(epoch_loss_values)\n",
        "    metric_array = np.array(metric_values)\n",
        "    np.savetxt(os.path.join(out_dir, 'epoch_loss_array.csv'), epoch_loss_array, delimiter=',')\n",
        "    np.savetxt(os.path.join(out_dir, 'metric_array.csv'), metric_array, delimiter=',')\n",
        "\n",
        "\n",
        "    plt.figure(\"train\", (12, 6))\n",
        "    plt.subplot(1, 2, 1)\n",
        "    plt.title(f\"{model_type} Epoch Average Loss\")\n",
        "    x = [i + 1 for i in range(len(epoch_loss_values))]\n",
        "    y = epoch_loss_values\n",
        "    plt.xlabel(\"epoch\")\n",
        "    plt.plot(x, y)\n",
        "    plt.subplot(1, 2, 2)\n",
        "    plt.title(f\"{model_type} Val Mean IoU \")\n",
        "    x = [2 * (i + 1) for i in range(len(metric_values))]\n",
        "    y = metric_values\n",
        "    plt.xlabel(\"epoch\")\n",
        "    plt.plot(x, y)\n",
        "    plt.savefig(os.path.join(out_dir, \"train_curve.png\"))\n",
        "    plt.show()\n",
        "\n",
        "# plot_train_curve(epoch_loss_values, metric_values, out_dir)\n",
        "\n",
        "\n"
      ]
    },
    {
      "cell_type": "markdown",
      "metadata": {
        "id": "ctpaNbmZZ9QC"
      },
      "source": [
        "### Training"
      ]
    },
    {
      "cell_type": "code",
      "execution_count": 107,
      "metadata": {
        "id": "-ngL3QqpZs0q"
      },
      "outputs": [],
      "source": [
        "gpu = \"cuda\"\n",
        "loss = \"Jaccard\""
      ]
    },
    {
      "cell_type": "code",
      "execution_count": 108,
      "metadata": {
        "id": "FPOmQE31ZiRI"
      },
      "outputs": [],
      "source": [
        "if gpu == \"cuda\":\n",
        "    device = torch.device(\"cuda:0\")\n",
        "\n",
        "if loss == \"Dice\":\n",
        "    loss_function = smp.losses.DiceLoss(mode=\"binary\", from_logits=False)\n",
        "elif loss == \"Jaccard\":\n",
        "    loss_function = smp.losses.JaccardLoss(mode=\"binary\", from_logits=False)\n",
        "\n",
        "metric = JaccardIndex(task=\"binary\").to(device)"
      ]
    },
    {
      "cell_type": "code",
      "execution_count": 109,
      "metadata": {
        "colab": {
          "base_uri": "https://localhost:8080/"
        },
        "id": "lYROBjTjZnK1",
        "outputId": "3202f372-6b0c-4f71-f445-da940a13c89b"
      },
      "outputs": [
        {
          "data": {
            "text/plain": [
              "(JaccardLoss(), BinaryJaccardIndex())"
            ]
          },
          "execution_count": 109,
          "metadata": {},
          "output_type": "execute_result"
        }
      ],
      "source": [
        "loss_function, metric"
      ]
    },
    {
      "cell_type": "code",
      "execution_count": 110,
      "metadata": {
        "colab": {
          "base_uri": "https://localhost:8080/"
        },
        "id": "i9ABxVKXaEZw",
        "outputId": "fa84276d-78ae-4fb1-bcb9-5070e34e0ff8"
      },
      "outputs": [
        {
          "name": "stdout",
          "output_type": "stream",
          "text": [
            ".\n",
            "cuda:0\n"
          ]
        }
      ],
      "source": [
        "# dataframe to save model parameters\n",
        "df_model_par = pd.DataFrame(columns=['model_type', 'parameters_num'])\n",
        "print(root_dir)\n",
        "print(device)"
      ]
    },
    {
      "cell_type": "code",
      "execution_count": 114,
      "metadata": {
        "id": "3YegENAAXCQb"
      },
      "outputs": [],
      "source": [
        "# model_list = [\"custom\", \"unet\", \"resnet\", \"segformer\"]\n",
        "model_list = [\"unet\"]"
      ]
    },
    {
      "cell_type": "code",
      "execution_count": 115,
      "metadata": {
        "id": "y-ZAQFZ4gdGY"
      },
      "outputs": [],
      "source": [
        "set_determinism(0) # set random seed\n"
      ]
    },
    {
      "cell_type": "code",
      "execution_count": 116,
      "metadata": {
        "colab": {
          "base_uri": "https://localhost:8080/",
          "height": 1000
        },
        "id": "KptwqDYgcpG3",
        "outputId": "6573807b-dcce-4ac0-a14e-fcbf93e4172c"
      },
      "outputs": [
        {
          "name": "stdout",
          "output_type": "stream",
          "text": [
            "Total number of parameters: 31043521\n",
            "----------\n",
            "epoch 1/200\n"
          ]
        },
        {
          "name": "stderr",
          "output_type": "stream",
          "text": [
            "Training: 100%|██████████| 121/121 [00:50<00:00,  2.41it/s]\n"
          ]
        },
        {
          "name": "stdout",
          "output_type": "stream",
          "text": [
            "epoch 1 average loss: 0.9638\n",
            "----------\n",
            "epoch 2/200\n"
          ]
        },
        {
          "name": "stderr",
          "output_type": "stream",
          "text": [
            "Training:   0%|          | 0/121 [00:05<?, ?it/s]\n"
          ]
        },
        {
          "ename": "KeyboardInterrupt",
          "evalue": "",
          "output_type": "error",
          "traceback": [
            "\u001b[1;31m---------------------------------------------------------------------------\u001b[0m",
            "\u001b[1;31mKeyboardInterrupt\u001b[0m                         Traceback (most recent call last)",
            "Cell \u001b[1;32mIn[116], line 4\u001b[0m\n\u001b[0;32m      2\u001b[0m os\u001b[38;5;241m.\u001b[39mmakedirs(os\u001b[38;5;241m.\u001b[39mpath\u001b[38;5;241m.\u001b[39mjoin(root_dir, model_type), exist_ok\u001b[38;5;241m=\u001b[39m\u001b[38;5;28;01mTrue\u001b[39;00m)\n\u001b[0;32m      3\u001b[0m out_dir \u001b[38;5;241m=\u001b[39m os\u001b[38;5;241m.\u001b[39mpath\u001b[38;5;241m.\u001b[39mjoin(root_dir, model_type)\n\u001b[1;32m----> 4\u001b[0m loss_values, metric_values \u001b[38;5;241m=\u001b[39m \u001b[43mtrain_model\u001b[49m\u001b[43m(\u001b[49m\u001b[43mmodel_type\u001b[49m\u001b[43m,\u001b[49m\u001b[43m \u001b[49m\u001b[43mdf_model_par\u001b[49m\u001b[43m,\u001b[49m\u001b[43m \u001b[49m\u001b[43mout_dir\u001b[49m\u001b[43m,\u001b[49m\u001b[43m \u001b[49m\u001b[43mloss_function\u001b[49m\u001b[43m,\u001b[49m\u001b[43m \u001b[49m\u001b[43mmetric\u001b[49m\u001b[43m,\u001b[49m\u001b[43m \u001b[49m\u001b[43mdevice\u001b[49m\u001b[43m,\u001b[49m\u001b[43m \u001b[49m\u001b[43mlr\u001b[49m\u001b[38;5;241;43m=\u001b[39;49m\u001b[38;5;241;43m1e-4\u001b[39;49m\u001b[43m,\u001b[49m\u001b[43m \u001b[49m\u001b[43mattention_gate_flag\u001b[49m\u001b[38;5;241;43m=\u001b[39;49m\u001b[38;5;28;43;01mTrue\u001b[39;49;00m\u001b[43m)\u001b[49m\n\u001b[0;32m      5\u001b[0m plot_train_curve(loss_values, metric_values, model_type, out_dir)\n",
            "Cell \u001b[1;32mIn[105], line 50\u001b[0m, in \u001b[0;36mtrain_model\u001b[1;34m(model_type, df_model_par, out_dir, loss_function, metric, device, lr, attention_gate_flag)\u001b[0m\n\u001b[0;32m     47\u001b[0m epoch_loss \u001b[38;5;241m=\u001b[39m \u001b[38;5;241m0\u001b[39m\n\u001b[0;32m     48\u001b[0m step \u001b[38;5;241m=\u001b[39m \u001b[38;5;241m0\u001b[39m\n\u001b[1;32m---> 50\u001b[0m \u001b[38;5;28;01mfor\u001b[39;00m batch_data \u001b[38;5;129;01min\u001b[39;00m tqdm(train_loader, desc\u001b[38;5;241m=\u001b[39m\u001b[38;5;124m\"\u001b[39m\u001b[38;5;124mTraining\u001b[39m\u001b[38;5;124m\"\u001b[39m):\n\u001b[0;32m     51\u001b[0m     step \u001b[38;5;241m+\u001b[39m\u001b[38;5;241m=\u001b[39m \u001b[38;5;241m1\u001b[39m\n\u001b[0;32m     52\u001b[0m     inputs, labels \u001b[38;5;241m=\u001b[39m (\n\u001b[0;32m     53\u001b[0m         batch_data[\u001b[38;5;124m\"\u001b[39m\u001b[38;5;124mimage\u001b[39m\u001b[38;5;124m\"\u001b[39m]\u001b[38;5;241m.\u001b[39mto(device),\n\u001b[0;32m     54\u001b[0m         batch_data[\u001b[38;5;124m\"\u001b[39m\u001b[38;5;124mlabel\u001b[39m\u001b[38;5;124m\"\u001b[39m]\u001b[38;5;241m.\u001b[39mto(device),\n\u001b[0;32m     55\u001b[0m     )\n",
            "File \u001b[1;32mc:\\Users\\frank\\anaconda3\\envs\\deep_learning\\lib\\site-packages\\tqdm\\std.py:1178\u001b[0m, in \u001b[0;36mtqdm.__iter__\u001b[1;34m(self)\u001b[0m\n\u001b[0;32m   1175\u001b[0m time \u001b[38;5;241m=\u001b[39m \u001b[38;5;28mself\u001b[39m\u001b[38;5;241m.\u001b[39m_time\n\u001b[0;32m   1177\u001b[0m \u001b[38;5;28;01mtry\u001b[39;00m:\n\u001b[1;32m-> 1178\u001b[0m     \u001b[38;5;28;01mfor\u001b[39;00m obj \u001b[38;5;129;01min\u001b[39;00m iterable:\n\u001b[0;32m   1179\u001b[0m         \u001b[38;5;28;01myield\u001b[39;00m obj\n\u001b[0;32m   1180\u001b[0m         \u001b[38;5;66;03m# Update and possibly print the progressbar.\u001b[39;00m\n\u001b[0;32m   1181\u001b[0m         \u001b[38;5;66;03m# Note: does not call self.update(1) for speed optimisation.\u001b[39;00m\n",
            "File \u001b[1;32mc:\\Users\\frank\\anaconda3\\envs\\deep_learning\\lib\\site-packages\\torch\\utils\\data\\dataloader.py:439\u001b[0m, in \u001b[0;36mDataLoader.__iter__\u001b[1;34m(self)\u001b[0m\n\u001b[0;32m    437\u001b[0m     \u001b[38;5;28;01mreturn\u001b[39;00m \u001b[38;5;28mself\u001b[39m\u001b[38;5;241m.\u001b[39m_iterator\n\u001b[0;32m    438\u001b[0m \u001b[38;5;28;01melse\u001b[39;00m:\n\u001b[1;32m--> 439\u001b[0m     \u001b[38;5;28;01mreturn\u001b[39;00m \u001b[38;5;28;43mself\u001b[39;49m\u001b[38;5;241;43m.\u001b[39;49m\u001b[43m_get_iterator\u001b[49m\u001b[43m(\u001b[49m\u001b[43m)\u001b[49m\n",
            "File \u001b[1;32mc:\\Users\\frank\\anaconda3\\envs\\deep_learning\\lib\\site-packages\\torch\\utils\\data\\dataloader.py:387\u001b[0m, in \u001b[0;36mDataLoader._get_iterator\u001b[1;34m(self)\u001b[0m\n\u001b[0;32m    385\u001b[0m \u001b[38;5;28;01melse\u001b[39;00m:\n\u001b[0;32m    386\u001b[0m     \u001b[38;5;28mself\u001b[39m\u001b[38;5;241m.\u001b[39mcheck_worker_number_rationality()\n\u001b[1;32m--> 387\u001b[0m     \u001b[38;5;28;01mreturn\u001b[39;00m \u001b[43m_MultiProcessingDataLoaderIter\u001b[49m\u001b[43m(\u001b[49m\u001b[38;5;28;43mself\u001b[39;49m\u001b[43m)\u001b[49m\n",
            "File \u001b[1;32mc:\\Users\\frank\\anaconda3\\envs\\deep_learning\\lib\\site-packages\\torch\\utils\\data\\dataloader.py:1040\u001b[0m, in \u001b[0;36m_MultiProcessingDataLoaderIter.__init__\u001b[1;34m(self, loader)\u001b[0m\n\u001b[0;32m   1033\u001b[0m w\u001b[38;5;241m.\u001b[39mdaemon \u001b[38;5;241m=\u001b[39m \u001b[38;5;28;01mTrue\u001b[39;00m\n\u001b[0;32m   1034\u001b[0m \u001b[38;5;66;03m# NB: Process.start() actually take some time as it needs to\u001b[39;00m\n\u001b[0;32m   1035\u001b[0m \u001b[38;5;66;03m#     start a process and pass the arguments over via a pipe.\u001b[39;00m\n\u001b[0;32m   1036\u001b[0m \u001b[38;5;66;03m#     Therefore, we only add a worker to self._workers list after\u001b[39;00m\n\u001b[0;32m   1037\u001b[0m \u001b[38;5;66;03m#     it started, so that we do not call .join() if program dies\u001b[39;00m\n\u001b[0;32m   1038\u001b[0m \u001b[38;5;66;03m#     before it starts, and __del__ tries to join but will get:\u001b[39;00m\n\u001b[0;32m   1039\u001b[0m \u001b[38;5;66;03m#     AssertionError: can only join a started process.\u001b[39;00m\n\u001b[1;32m-> 1040\u001b[0m \u001b[43mw\u001b[49m\u001b[38;5;241;43m.\u001b[39;49m\u001b[43mstart\u001b[49m\u001b[43m(\u001b[49m\u001b[43m)\u001b[49m\n\u001b[0;32m   1041\u001b[0m \u001b[38;5;28mself\u001b[39m\u001b[38;5;241m.\u001b[39m_index_queues\u001b[38;5;241m.\u001b[39mappend(index_queue)\n\u001b[0;32m   1042\u001b[0m \u001b[38;5;28mself\u001b[39m\u001b[38;5;241m.\u001b[39m_workers\u001b[38;5;241m.\u001b[39mappend(w)\n",
            "File \u001b[1;32mc:\\Users\\frank\\anaconda3\\envs\\deep_learning\\lib\\multiprocessing\\process.py:121\u001b[0m, in \u001b[0;36mBaseProcess.start\u001b[1;34m(self)\u001b[0m\n\u001b[0;32m    118\u001b[0m \u001b[38;5;28;01massert\u001b[39;00m \u001b[38;5;129;01mnot\u001b[39;00m _current_process\u001b[38;5;241m.\u001b[39m_config\u001b[38;5;241m.\u001b[39mget(\u001b[38;5;124m'\u001b[39m\u001b[38;5;124mdaemon\u001b[39m\u001b[38;5;124m'\u001b[39m), \\\n\u001b[0;32m    119\u001b[0m        \u001b[38;5;124m'\u001b[39m\u001b[38;5;124mdaemonic processes are not allowed to have children\u001b[39m\u001b[38;5;124m'\u001b[39m\n\u001b[0;32m    120\u001b[0m _cleanup()\n\u001b[1;32m--> 121\u001b[0m \u001b[38;5;28mself\u001b[39m\u001b[38;5;241m.\u001b[39m_popen \u001b[38;5;241m=\u001b[39m \u001b[38;5;28;43mself\u001b[39;49m\u001b[38;5;241;43m.\u001b[39;49m\u001b[43m_Popen\u001b[49m\u001b[43m(\u001b[49m\u001b[38;5;28;43mself\u001b[39;49m\u001b[43m)\u001b[49m\n\u001b[0;32m    122\u001b[0m \u001b[38;5;28mself\u001b[39m\u001b[38;5;241m.\u001b[39m_sentinel \u001b[38;5;241m=\u001b[39m \u001b[38;5;28mself\u001b[39m\u001b[38;5;241m.\u001b[39m_popen\u001b[38;5;241m.\u001b[39msentinel\n\u001b[0;32m    123\u001b[0m \u001b[38;5;66;03m# Avoid a refcycle if the target function holds an indirect\u001b[39;00m\n\u001b[0;32m    124\u001b[0m \u001b[38;5;66;03m# reference to the process object (see bpo-30775)\u001b[39;00m\n",
            "File \u001b[1;32mc:\\Users\\frank\\anaconda3\\envs\\deep_learning\\lib\\multiprocessing\\context.py:224\u001b[0m, in \u001b[0;36mProcess._Popen\u001b[1;34m(process_obj)\u001b[0m\n\u001b[0;32m    222\u001b[0m \u001b[38;5;129m@staticmethod\u001b[39m\n\u001b[0;32m    223\u001b[0m \u001b[38;5;28;01mdef\u001b[39;00m \u001b[38;5;21m_Popen\u001b[39m(process_obj):\n\u001b[1;32m--> 224\u001b[0m     \u001b[38;5;28;01mreturn\u001b[39;00m \u001b[43m_default_context\u001b[49m\u001b[38;5;241;43m.\u001b[39;49m\u001b[43mget_context\u001b[49m\u001b[43m(\u001b[49m\u001b[43m)\u001b[49m\u001b[38;5;241;43m.\u001b[39;49m\u001b[43mProcess\u001b[49m\u001b[38;5;241;43m.\u001b[39;49m\u001b[43m_Popen\u001b[49m\u001b[43m(\u001b[49m\u001b[43mprocess_obj\u001b[49m\u001b[43m)\u001b[49m\n",
            "File \u001b[1;32mc:\\Users\\frank\\anaconda3\\envs\\deep_learning\\lib\\multiprocessing\\context.py:327\u001b[0m, in \u001b[0;36mSpawnProcess._Popen\u001b[1;34m(process_obj)\u001b[0m\n\u001b[0;32m    324\u001b[0m \u001b[38;5;129m@staticmethod\u001b[39m\n\u001b[0;32m    325\u001b[0m \u001b[38;5;28;01mdef\u001b[39;00m \u001b[38;5;21m_Popen\u001b[39m(process_obj):\n\u001b[0;32m    326\u001b[0m     \u001b[38;5;28;01mfrom\u001b[39;00m \u001b[38;5;21;01m.\u001b[39;00m\u001b[38;5;21;01mpopen_spawn_win32\u001b[39;00m \u001b[38;5;28;01mimport\u001b[39;00m Popen\n\u001b[1;32m--> 327\u001b[0m     \u001b[38;5;28;01mreturn\u001b[39;00m \u001b[43mPopen\u001b[49m\u001b[43m(\u001b[49m\u001b[43mprocess_obj\u001b[49m\u001b[43m)\u001b[49m\n",
            "File \u001b[1;32mc:\\Users\\frank\\anaconda3\\envs\\deep_learning\\lib\\multiprocessing\\popen_spawn_win32.py:93\u001b[0m, in \u001b[0;36mPopen.__init__\u001b[1;34m(self, process_obj)\u001b[0m\n\u001b[0;32m     91\u001b[0m \u001b[38;5;28;01mtry\u001b[39;00m:\n\u001b[0;32m     92\u001b[0m     reduction\u001b[38;5;241m.\u001b[39mdump(prep_data, to_child)\n\u001b[1;32m---> 93\u001b[0m     \u001b[43mreduction\u001b[49m\u001b[38;5;241;43m.\u001b[39;49m\u001b[43mdump\u001b[49m\u001b[43m(\u001b[49m\u001b[43mprocess_obj\u001b[49m\u001b[43m,\u001b[49m\u001b[43m \u001b[49m\u001b[43mto_child\u001b[49m\u001b[43m)\u001b[49m\n\u001b[0;32m     94\u001b[0m \u001b[38;5;28;01mfinally\u001b[39;00m:\n\u001b[0;32m     95\u001b[0m     set_spawning_popen(\u001b[38;5;28;01mNone\u001b[39;00m)\n",
            "File \u001b[1;32mc:\\Users\\frank\\anaconda3\\envs\\deep_learning\\lib\\multiprocessing\\reduction.py:60\u001b[0m, in \u001b[0;36mdump\u001b[1;34m(obj, file, protocol)\u001b[0m\n\u001b[0;32m     58\u001b[0m \u001b[38;5;28;01mdef\u001b[39;00m \u001b[38;5;21mdump\u001b[39m(obj, file, protocol\u001b[38;5;241m=\u001b[39m\u001b[38;5;28;01mNone\u001b[39;00m):\n\u001b[0;32m     59\u001b[0m \u001b[38;5;250m    \u001b[39m\u001b[38;5;124;03m'''Replacement for pickle.dump() using ForkingPickler.'''\u001b[39;00m\n\u001b[1;32m---> 60\u001b[0m     \u001b[43mForkingPickler\u001b[49m\u001b[43m(\u001b[49m\u001b[43mfile\u001b[49m\u001b[43m,\u001b[49m\u001b[43m \u001b[49m\u001b[43mprotocol\u001b[49m\u001b[43m)\u001b[49m\u001b[38;5;241;43m.\u001b[39;49m\u001b[43mdump\u001b[49m\u001b[43m(\u001b[49m\u001b[43mobj\u001b[49m\u001b[43m)\u001b[49m\n",
            "\u001b[1;31mKeyboardInterrupt\u001b[0m: "
          ]
        }
      ],
      "source": [
        "for model_type in model_list:\n",
        "    os.makedirs(os.path.join(root_dir, model_type), exist_ok=True)\n",
        "    out_dir = os.path.join(root_dir, model_type)\n",
        "    loss_values, metric_values = train_model(model_type, df_model_par, out_dir, loss_function, metric, device, lr=1e-4, attention_gate_flag=True)\n",
        "    plot_train_curve(loss_values, metric_values, model_type, out_dir)"
      ]
    },
    {
      "cell_type": "markdown",
      "metadata": {
        "id": "ln9hSN9aMuMe"
      },
      "source": [
        "Testing"
      ]
    },
    {
      "cell_type": "code",
      "execution_count": 42,
      "metadata": {
        "colab": {
          "base_uri": "https://localhost:8080/",
          "height": 36
        },
        "id": "Lj7Kyu9TJfdm",
        "outputId": "ab0fc611-df8d-4b3c-a76b-4d1638451ff7"
      },
      "outputs": [
        {
          "data": {
            "text/plain": [
              "'.\\\\unet'"
            ]
          },
          "execution_count": 42,
          "metadata": {},
          "output_type": "execute_result"
        }
      ],
      "source": [
        "test_loader = DataLoader(\n",
        "    test_set, batch_size=8, num_workers=4\n",
        ")\n",
        "out_dir"
      ]
    },
    {
      "cell_type": "code",
      "execution_count": 43,
      "metadata": {
        "colab": {
          "base_uri": "https://localhost:8080/",
          "height": 36
        },
        "id": "quqO3p2uNN7T",
        "outputId": "b2583509-036a-4ab5-e218-cd7d130201b3"
      },
      "outputs": [
        {
          "data": {
            "text/plain": [
              "'.'"
            ]
          },
          "execution_count": 43,
          "metadata": {},
          "output_type": "execute_result"
        }
      ],
      "source": [
        "root_dir"
      ]
    },
    {
      "cell_type": "code",
      "execution_count": 44,
      "metadata": {
        "id": "zzvocOArO0ah"
      },
      "outputs": [],
      "source": [
        "# model_list = [\"resnet\", \"unet\", \"segformer\", \"custom\"]\n",
        "model_list = [\"custom\", \"unet\"]"
      ]
    },
    {
      "cell_type": "code",
      "execution_count": 45,
      "metadata": {},
      "outputs": [],
      "source": [
        "def get_dice(pred, target):\n",
        "    smooth = 1e-15\n",
        "    intersection = (pred * target).sum()\n",
        "    return (2. * intersection + smooth) / (pred.sum() + target.sum() + smooth)"
      ]
    },
    {
      "cell_type": "code",
      "execution_count": 46,
      "metadata": {
        "colab": {
          "base_uri": "https://localhost:8080/",
          "height": 629
        },
        "id": "G2y8BPMVM6WO",
        "outputId": "f0de5947-066a-43a8-9bdf-9f2d4d67f1c4"
      },
      "outputs": [
        {
          "name": "stderr",
          "output_type": "stream",
          "text": [
            "Using cache found in C:\\Users\\frank/.cache\\torch\\hub\\mateuszbuda_brain-segmentation-pytorch_master\n"
          ]
        },
        {
          "data": {
            "image/png": "[encoded data removed]",
            "text/plain": [
              "<Figure size 1200x600 with 12 Axes>"
            ]
          },
          "metadata": {},
          "output_type": "display_data"
        }
      ],
      "source": [
        "mean_test_metric = pd.DataFrame(columns=['model_tye', 'mean_test_iou', 'mean_test_dice'])\n",
        "plt.figure(\"check\", (12, 6))\n",
        "for j in range(len(model_list)):\n",
        "    model_type = model_list[j]\n",
        "    model = get_model(model_type, device, attention_gate_flag=True)\n",
        "    model.load_state_dict(torch.load(os.path.join(root_dir, model_type, \"best_metric_model.pth\")))\n",
        "    model.eval()\n",
        "    test_metric_values = []\n",
        "    test_dice_values = []\n",
        "    with torch.no_grad():\n",
        "        for i, test_data in enumerate(test_loader):\n",
        "\n",
        "            test_outputs = model(test_data[\"image\"].to(device))\n",
        "            test_labels = test_data[\"label\"].to(device)\n",
        "            if model_type == \"segformer\":\n",
        "                test_outputs = torch.nn.functional.sigmoid(torch.nn.functional.interpolate(test_outputs.logits,128,mode=\"bilinear\",align_corners=False))\n",
        "\n",
        "            test_outputs = test_outputs.float() > 0.5\n",
        "            iou = metric(test_outputs, test_labels)\n",
        "            dice_val = get_dice(test_outputs, test_labels)\n",
        "            test_metric_values.append(iou.item())\n",
        "            test_dice_values.append(dice_val.item())\n",
        "\n",
        "\n",
        "            # for j in range(10):\n",
        "            if i >= 30 and i < 33:\n",
        "                k = i - 30\n",
        "                if j == 0:\n",
        "                    plt.subplot(3, 6, 1 + 6 * k)\n",
        "                    plt.title(\"original image\")\n",
        "                    plt.axis(\"off\")\n",
        "                    plt.imshow(test_data[\"image\"][0, 0, :, :], cmap=\"gray\")\n",
        "                    plt.subplot(3, 6, 2 + 6 * k)\n",
        "                    plt.title(\"label\")\n",
        "                    plt.axis(\"off\")\n",
        "                    plt.imshow(test_data[\"label\"][0, 0, :, :])\n",
        "                plt.subplot(3, 6, j + 3 + 6 * k)\n",
        "                plt.title(f\"{model_type} output\")\n",
        "                plt.axis(\"off\")\n",
        "\n",
        "                plt.imshow(test_outputs.detach().cpu()[0, 0, :, :])\n",
        "    mean_test_metric.loc[j] = [model_type, sum(test_metric_values) / len(test_metric_values), sum(test_dice_values) / len(test_dice_values)]\n",
        "plt.savefig(os.path.join(root_dir, f\"model_comparison.png\"))\n",
        "plt.show()\n"
      ]
    },
    {
      "cell_type": "code",
      "execution_count": null,
      "metadata": {},
      "outputs": [],
      "source": []
    },
    {
      "cell_type": "code",
      "execution_count": 47,
      "metadata": {
        "colab": {
          "base_uri": "https://localhost:8080/",
          "height": 175
        },
        "id": "edB1ZxOaWdNr",
        "outputId": "9ae3ecee-72ac-4a05-a1ab-af68372683d5"
      },
      "outputs": [
        {
          "data": {
            "text/html": [
              "<div>\n",
              "<style scoped>\n",
              "    .dataframe tbody tr th:only-of-type {\n",
              "        vertical-align: middle;\n",
              "    }\n",
              "\n",
              "    .dataframe tbody tr th {\n",
              "        vertical-align: top;\n",
              "    }\n",
              "\n",
              "    .dataframe thead th {\n",
              "        text-align: right;\n",
              "    }\n",
              "</style>\n",
              "<table border=\"1\" class=\"dataframe\">\n",
              "  <thead>\n",
              "    <tr style=\"text-align: right;\">\n",
              "      <th></th>\n",
              "      <th>model_tye</th>\n",
              "      <th>mean_test_iou</th>\n",
              "      <th>mean_test_dice</th>\n",
              "    </tr>\n",
              "  </thead>\n",
              "  <tbody>\n",
              "    <tr>\n",
              "      <th>0</th>\n",
              "      <td>custom</td>\n",
              "      <td>0.765703</td>\n",
              "      <td>0.862813</td>\n",
              "    </tr>\n",
              "    <tr>\n",
              "      <th>1</th>\n",
              "      <td>unet</td>\n",
              "      <td>0.781753</td>\n",
              "      <td>0.874216</td>\n",
              "    </tr>\n",
              "  </tbody>\n",
              "</table>\n",
              "</div>"
            ],
            "text/plain": [
              "  model_tye  mean_test_iou  mean_test_dice\n",
              "0    custom       0.765703        0.862813\n",
              "1      unet       0.781753        0.874216"
            ]
          },
          "execution_count": 47,
          "metadata": {},
          "output_type": "execute_result"
        }
      ],
      "source": [
        "mean_test_metric"
      ]
    },
    {
      "cell_type": "code",
      "execution_count": 93,
      "metadata": {
        "id": "1Crcx9d0Wkgl"
      },
      "outputs": [],
      "source": [
        "df_model_par['parameters_num_millions'] = df_model_par['parameters_num'] / 1_000_000"
      ]
    },
    {
      "cell_type": "code",
      "execution_count": 99,
      "metadata": {
        "colab": {
          "base_uri": "https://localhost:8080/",
          "height": 175
        },
        "id": "Y-NvH_RHpuzs",
        "outputId": "e31e0ce8-bae4-4090-9951-d0de9c350f0c"
      },
      "outputs": [
        {
          "data": {
            "application/vnd.google.colaboratory.intrinsic+json": {
              "summary": "{\n  \"name\": \"df_model_par\",\n  \"rows\": 4,\n  \"fields\": [\n    {\n      \"column\": \"model_type\",\n      \"properties\": {\n        \"dtype\": \"string\",\n        \"num_unique_values\": 4,\n        \"samples\": [\n          \"unet\",\n          \"custom\",\n          \"resnet\"\n        ],\n        \"semantic_type\": \"\",\n        \"description\": \"\"\n      }\n    },\n    {\n      \"column\": \"parameters_num\",\n      \"properties\": {\n        \"dtype\": \"number\",\n        \"std\": 21542344,\n        \"min\": 3714401,\n        \"max\": 51145311,\n        \"num_unique_values\": 4,\n        \"samples\": [\n          7763041,\n          51145311,\n          24436369\n        ],\n        \"semantic_type\": \"\",\n        \"description\": \"\"\n      }\n    },\n    {\n      \"column\": \"parameters_num_millions\",\n      \"properties\": {\n        \"dtype\": \"number\",\n        \"std\": 21.54234486381526,\n        \"min\": 3.714401,\n        \"max\": 51.145311,\n        \"num_unique_values\": 4,\n        \"samples\": [\n          7.763041,\n          51.145311,\n          24.436369\n        ],\n        \"semantic_type\": \"\",\n        \"description\": \"\"\n      }\n    }\n  ]\n}",
              "type": "dataframe",
              "variable_name": "df_model_par"
            },
            "text/html": [
              "\n",
              "  <div id=\"df-216d93e3-6cbd-4446-bce8-fcb4bae52891\" class=\"colab-df-container\">\n",
              "    <div>\n",
              "<style scoped>\n",
              "    .dataframe tbody tr th:only-of-type {\n",
              "        vertical-align: middle;\n",
              "    }\n",
              "\n",
              "    .dataframe tbody tr th {\n",
              "        vertical-align: top;\n",
              "    }\n",
              "\n",
              "    .dataframe thead th {\n",
              "        text-align: right;\n",
              "    }\n",
              "</style>\n",
              "<table border=\"1\" class=\"dataframe\">\n",
              "  <thead>\n",
              "    <tr style=\"text-align: right;\">\n",
              "      <th></th>\n",
              "      <th>model_type</th>\n",
              "      <th>parameters_num</th>\n",
              "      <th>parameters_num_millions</th>\n",
              "    </tr>\n",
              "  </thead>\n",
              "  <tbody>\n",
              "    <tr>\n",
              "      <th>0</th>\n",
              "      <td>resnet</td>\n",
              "      <td>24436369</td>\n",
              "      <td>24.436369</td>\n",
              "    </tr>\n",
              "    <tr>\n",
              "      <th>1</th>\n",
              "      <td>unet</td>\n",
              "      <td>7763041</td>\n",
              "      <td>7.763041</td>\n",
              "    </tr>\n",
              "    <tr>\n",
              "      <th>2</th>\n",
              "      <td>segformer</td>\n",
              "      <td>3714401</td>\n",
              "      <td>3.714401</td>\n",
              "    </tr>\n",
              "    <tr>\n",
              "      <th>3</th>\n",
              "      <td>custom</td>\n",
              "      <td>51145311</td>\n",
              "      <td>51.145311</td>\n",
              "    </tr>\n",
              "  </tbody>\n",
              "</table>\n",
              "</div>\n",
              "    <div class=\"colab-df-buttons\">\n",
              "\n",
              "  <div class=\"colab-df-container\">\n",
              "    <button class=\"colab-df-convert\" onclick=\"convertToInteractive('df-216d93e3-6cbd-4446-bce8-fcb4bae52891')\"\n",
              "            title=\"Convert this dataframe to an interactive table.\"\n",
              "            style=\"display:none;\">\n",
              "\n",
              "  <svg xmlns=\"http://www.w3.org/2000/svg\" height=\"24px\" viewBox=\"0 -960 960 960\">\n",
              "    <path d=\"M120-120v-720h720v720H120Zm60-500h600v-160H180v160Zm220 220h160v-160H400v160Zm0 220h160v-160H400v160ZM180-400h160v-160H180v160Zm440 0h160v-160H620v160ZM180-180h160v-160H180v160Zm440 0h160v-160H620v160Z\"/>\n",
              "  </svg>\n",
              "    </button>\n",
              "\n",
              "  <style>\n",
              "    .colab-df-container {\n",
              "      display:flex;\n",
              "      gap: 12px;\n",
              "    }\n",
              "\n",
              "    .colab-df-convert {\n",
              "      background-color: #E8F0FE;\n",
              "      border: none;\n",
              "      border-radius: 50%;\n",
              "      cursor: pointer;\n",
              "      display: none;\n",
              "      fill: #1967D2;\n",
              "      height: 32px;\n",
              "      padding: 0 0 0 0;\n",
              "      width: 32px;\n",
              "    }\n",
              "\n",
              "    .colab-df-convert:hover {\n",
              "      background-color: #E2EBFA;\n",
              "      box-shadow: 0px 1px 2px rgba(60, 64, 67, 0.3), 0px 1px 3px 1px rgba(60, 64, 67, 0.15);\n",
              "      fill: #174EA6;\n",
              "    }\n",
              "\n",
              "    .colab-df-buttons div {\n",
              "      margin-bottom: 4px;\n",
              "    }\n",
              "\n",
              "    [theme=dark] .colab-df-convert {\n",
              "      background-color: #3B4455;\n",
              "      fill: #D2E3FC;\n",
              "    }\n",
              "\n",
              "    [theme=dark] .colab-df-convert:hover {\n",
              "      background-color: #434B5C;\n",
              "      box-shadow: 0px 1px 3px 1px rgba(0, 0, 0, 0.15);\n",
              "      filter: drop-shadow(0px 1px 2px rgba(0, 0, 0, 0.3));\n",
              "      fill: #FFFFFF;\n",
              "    }\n",
              "  </style>\n",
              "\n",
              "    <script>\n",
              "      const buttonEl =\n",
              "        document.querySelector('#df-216d93e3-6cbd-4446-bce8-fcb4bae52891 button.colab-df-convert');\n",
              "      buttonEl.style.display =\n",
              "        google.colab.kernel.accessAllowed ? 'block' : 'none';\n",
              "\n",
              "      async function convertToInteractive(key) {\n",
              "        const element = document.querySelector('#df-216d93e3-6cbd-4446-bce8-fcb4bae52891');\n",
              "        const dataTable =\n",
              "          await google.colab.kernel.invokeFunction('convertToInteractive',\n",
              "                                                    [key], {});\n",
              "        if (!dataTable) return;\n",
              "\n",
              "        const docLinkHtml = 'Like what you see? Visit the ' +\n",
              "          '<a target=\"_blank\" href=https://colab.research.google.com/notebooks/data_table.ipynb>data table notebook</a>'\n",
              "          + ' to learn more about interactive tables.';\n",
              "        element.innerHTML = '';\n",
              "        dataTable['output_type'] = 'display_data';\n",
              "        await google.colab.output.renderOutput(dataTable, element);\n",
              "        const docLink = document.createElement('div');\n",
              "        docLink.innerHTML = docLinkHtml;\n",
              "        element.appendChild(docLink);\n",
              "      }\n",
              "    </script>\n",
              "  </div>\n",
              "\n",
              "\n",
              "<div id=\"df-a3d51dc6-07f5-41ed-8aad-3a77ba78a30a\">\n",
              "  <button class=\"colab-df-quickchart\" onclick=\"quickchart('df-a3d51dc6-07f5-41ed-8aad-3a77ba78a30a')\"\n",
              "            title=\"Suggest charts\"\n",
              "            style=\"display:none;\">\n",
              "\n",
              "<svg xmlns=\"http://www.w3.org/2000/svg\" height=\"24px\"viewBox=\"0 0 24 24\"\n",
              "     width=\"24px\">\n",
              "    <g>\n",
              "        <path d=\"M19 3H5c-1.1 0-2 .9-2 2v14c0 1.1.9 2 2 2h14c1.1 0 2-.9 2-2V5c0-1.1-.9-2-2-2zM9 17H7v-7h2v7zm4 0h-2V7h2v10zm4 0h-2v-4h2v4z\"/>\n",
              "    </g>\n",
              "</svg>\n",
              "  </button>\n",
              "\n",
              "<style>\n",
              "  .colab-df-quickchart {\n",
              "      --bg-color: #E8F0FE;\n",
              "      --fill-color: #1967D2;\n",
              "      --hover-bg-color: #E2EBFA;\n",
              "      --hover-fill-color: #174EA6;\n",
              "      --disabled-fill-color: #AAA;\n",
              "      --disabled-bg-color: #DDD;\n",
              "  }\n",
              "\n",
              "  [theme=dark] .colab-df-quickchart {\n",
              "      --bg-color: #3B4455;\n",
              "      --fill-color: #D2E3FC;\n",
              "      --hover-bg-color: #434B5C;\n",
              "      --hover-fill-color: #FFFFFF;\n",
              "      --disabled-bg-color: #3B4455;\n",
              "      --disabled-fill-color: #666;\n",
              "  }\n",
              "\n",
              "  .colab-df-quickchart {\n",
              "    background-color: var(--bg-color);\n",
              "    border: none;\n",
              "    border-radius: 50%;\n",
              "    cursor: pointer;\n",
              "    display: none;\n",
              "    fill: var(--fill-color);\n",
              "    height: 32px;\n",
              "    padding: 0;\n",
              "    width: 32px;\n",
              "  }\n",
              "\n",
              "  .colab-df-quickchart:hover {\n",
              "    background-color: var(--hover-bg-color);\n",
              "    box-shadow: 0 1px 2px rgba(60, 64, 67, 0.3), 0 1px 3px 1px rgba(60, 64, 67, 0.15);\n",
              "    fill: var(--button-hover-fill-color);\n",
              "  }\n",
              "\n",
              "  .colab-df-quickchart-complete:disabled,\n",
              "  .colab-df-quickchart-complete:disabled:hover {\n",
              "    background-color: var(--disabled-bg-color);\n",
              "    fill: var(--disabled-fill-color);\n",
              "    box-shadow: none;\n",
              "  }\n",
              "\n",
              "  .colab-df-spinner {\n",
              "    border: 2px solid var(--fill-color);\n",
              "    border-color: transparent;\n",
              "    border-bottom-color: var(--fill-color);\n",
              "    animation:\n",
              "      spin 1s steps(1) infinite;\n",
              "  }\n",
              "\n",
              "  @keyframes spin {\n",
              "    0% {\n",
              "      border-color: transparent;\n",
              "      border-bottom-color: var(--fill-color);\n",
              "      border-left-color: var(--fill-color);\n",
              "    }\n",
              "    20% {\n",
              "      border-color: transparent;\n",
              "      border-left-color: var(--fill-color);\n",
              "      border-top-color: var(--fill-color);\n",
              "    }\n",
              "    30% {\n",
              "      border-color: transparent;\n",
              "      border-left-color: var(--fill-color);\n",
              "      border-top-color: var(--fill-color);\n",
              "      border-right-color: var(--fill-color);\n",
              "    }\n",
              "    40% {\n",
              "      border-color: transparent;\n",
              "      border-right-color: var(--fill-color);\n",
              "      border-top-color: var(--fill-color);\n",
              "    }\n",
              "    60% {\n",
              "      border-color: transparent;\n",
              "      border-right-color: var(--fill-color);\n",
              "    }\n",
              "    80% {\n",
              "      border-color: transparent;\n",
              "      border-right-color: var(--fill-color);\n",
              "      border-bottom-color: var(--fill-color);\n",
              "    }\n",
              "    90% {\n",
              "      border-color: transparent;\n",
              "      border-bottom-color: var(--fill-color);\n",
              "    }\n",
              "  }\n",
              "</style>\n",
              "\n",
              "  <script>\n",
              "    async function quickchart(key) {\n",
              "      const quickchartButtonEl =\n",
              "        document.querySelector('#' + key + ' button');\n",
              "      quickchartButtonEl.disabled = true;  // To prevent multiple clicks.\n",
              "      quickchartButtonEl.classList.add('colab-df-spinner');\n",
              "      try {\n",
              "        const charts = await google.colab.kernel.invokeFunction(\n",
              "            'suggestCharts', [key], {});\n",
              "      } catch (error) {\n",
              "        console.error('Error during call to suggestCharts:', error);\n",
              "      }\n",
              "      quickchartButtonEl.classList.remove('colab-df-spinner');\n",
              "      quickchartButtonEl.classList.add('colab-df-quickchart-complete');\n",
              "    }\n",
              "    (() => {\n",
              "      let quickchartButtonEl =\n",
              "        document.querySelector('#df-a3d51dc6-07f5-41ed-8aad-3a77ba78a30a button');\n",
              "      quickchartButtonEl.style.display =\n",
              "        google.colab.kernel.accessAllowed ? 'block' : 'none';\n",
              "    })();\n",
              "  </script>\n",
              "</div>\n",
              "\n",
              "  <div id=\"id_38616f90-48ff-497a-92a8-32dfb727f921\">\n",
              "    <style>\n",
              "      .colab-df-generate {\n",
              "        background-color: #E8F0FE;\n",
              "        border: none;\n",
              "        border-radius: 50%;\n",
              "        cursor: pointer;\n",
              "        display: none;\n",
              "        fill: #1967D2;\n",
              "        height: 32px;\n",
              "        padding: 0 0 0 0;\n",
              "        width: 32px;\n",
              "      }\n",
              "\n",
              "      .colab-df-generate:hover {\n",
              "        background-color: #E2EBFA;\n",
              "        box-shadow: 0px 1px 2px rgba(60, 64, 67, 0.3), 0px 1px 3px 1px rgba(60, 64, 67, 0.15);\n",
              "        fill: #174EA6;\n",
              "      }\n",
              "\n",
              "      [theme=dark] .colab-df-generate {\n",
              "        background-color: #3B4455;\n",
              "        fill: #D2E3FC;\n",
              "      }\n",
              "\n",
              "      [theme=dark] .colab-df-generate:hover {\n",
              "        background-color: #434B5C;\n",
              "        box-shadow: 0px 1px 3px 1px rgba(0, 0, 0, 0.15);\n",
              "        filter: drop-shadow(0px 1px 2px rgba(0, 0, 0, 0.3));\n",
              "        fill: #FFFFFF;\n",
              "      }\n",
              "    </style>\n",
              "    <button class=\"colab-df-generate\" onclick=\"generateWithVariable('df_model_par')\"\n",
              "            title=\"Generate code using this dataframe.\"\n",
              "            style=\"display:none;\">\n",
              "\n",
              "  <svg xmlns=\"http://www.w3.org/2000/svg\" height=\"24px\"viewBox=\"0 0 24 24\"\n",
              "       width=\"24px\">\n",
              "    <path d=\"M7,19H8.4L18.45,9,17,7.55,7,17.6ZM5,21V16.75L18.45,3.32a2,2,0,0,1,2.83,0l1.4,1.43a1.91,1.91,0,0,1,.58,1.4,1.91,1.91,0,0,1-.58,1.4L9.25,21ZM18.45,9,17,7.55Zm-12,3A5.31,5.31,0,0,0,4.9,8.1,5.31,5.31,0,0,0,1,6.5,5.31,5.31,0,0,0,4.9,4.9,5.31,5.31,0,0,0,6.5,1,5.31,5.31,0,0,0,8.1,4.9,5.31,5.31,0,0,0,12,6.5,5.46,5.46,0,0,0,6.5,12Z\"/>\n",
              "  </svg>\n",
              "    </button>\n",
              "    <script>\n",
              "      (() => {\n",
              "      const buttonEl =\n",
              "        document.querySelector('#id_38616f90-48ff-497a-92a8-32dfb727f921 button.colab-df-generate');\n",
              "      buttonEl.style.display =\n",
              "        google.colab.kernel.accessAllowed ? 'block' : 'none';\n",
              "\n",
              "      buttonEl.onclick = () => {\n",
              "        google.colab.notebook.generateWithVariable('df_model_par');\n",
              "      }\n",
              "      })();\n",
              "    </script>\n",
              "  </div>\n",
              "\n",
              "    </div>\n",
              "  </div>\n"
            ],
            "text/plain": [
              "  model_type  parameters_num  parameters_num_millions\n",
              "0     resnet        24436369                24.436369\n",
              "1       unet         7763041                 7.763041\n",
              "2  segformer         3714401                 3.714401\n",
              "3     custom        51145311                51.145311"
            ]
          },
          "execution_count": 99,
          "metadata": {},
          "output_type": "execute_result"
        }
      ],
      "source": [
        "df_model_par"
      ]
    },
    {
      "cell_type": "code",
      "execution_count": 102,
      "metadata": {
        "colab": {
          "base_uri": "https://localhost:8080/",
          "height": 422
        },
        "id": "B86yF8b7qjmk",
        "outputId": "687b7f44-9a15-499c-d34a-3a0d940b1c33"
      },
      "outputs": [
        {
          "data": {
            "image/png": "[encoded data removed]",
            "text/plain": [
              "<Figure size 800x400 with 1 Axes>"
            ]
          },
          "metadata": {},
          "output_type": "display_data"
        }
      ],
      "source": [
        "sns.set(style=\"whitegrid\")\n",
        "plt.figure(figsize=(8, 4))\n",
        "for idx, row in df_model_par.iterrows():\n",
        "    plt.plot([row['model_type']], [row['parameters_num_millions']], label=row['model_type'], marker='o', linestyle='-', linewidth=2)\n",
        "plt.title('Model Parameters Comparison (in Millions)', fontsize=16)\n",
        "plt.xlabel('Model Type', fontsize=14)\n",
        "plt.ylabel('Number of Parameters (Millions)', fontsize=14)\n",
        "plt.legend(title='Model Type')\n",
        "plt.savefig(os.path.join(root_dir, \"model_parameters_line_plot.png\"), dpi=300)\n",
        "plt.show()"
      ]
    },
    {
      "cell_type": "code",
      "execution_count": null,
      "metadata": {
        "id": "TPq9uemorRQz"
      },
      "outputs": [],
      "source": []
    }
  ],
  "metadata": {
    "accelerator": "GPU",
    "colab": {
      "gpuType": "A100",
      "machine_shape": "hm",
      "provenance": [],
      "toc_visible": true
    },
    "kernelspec": {
      "display_name": "Python 3",
      "name": "python3"
    },
    "language_info": {
      "codemirror_mode": {
        "name": "ipython",
        "version": 3
      },
      "file_extension": ".py",
      "mimetype": "text/x-python",
      "name": "python",
      "nbconvert_exporter": "python",
      "pygments_lexer": "ipython3",
      "version": "3.8.18"
    }
  },
  "nbformat": 4,
  "nbformat_minor": 0
}
